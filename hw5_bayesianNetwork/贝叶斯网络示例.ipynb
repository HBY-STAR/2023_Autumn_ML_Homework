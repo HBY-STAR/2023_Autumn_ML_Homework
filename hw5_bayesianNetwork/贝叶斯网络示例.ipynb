{
 "cells": [
  {
   "cell_type": "code",
   "execution_count": 1,
   "id": "41231e12",
   "metadata": {},
   "outputs": [
    {
     "ename": "ModuleNotFoundError",
     "evalue": "No module named 'pgmpy'",
     "output_type": "error",
     "traceback": [
      "\u001b[1;31m---------------------------------------------------------------------------\u001b[0m",
      "\u001b[1;31mModuleNotFoundError\u001b[0m                       Traceback (most recent call last)",
      "Cell \u001b[1;32mIn[1], line 2\u001b[0m\n\u001b[0;32m      1\u001b[0m \u001b[38;5;66;03m#!pip install pgmpy\u001b[39;00m\n\u001b[1;32m----> 2\u001b[0m \u001b[38;5;28;01mfrom\u001b[39;00m \u001b[38;5;21;01mpgmpy\u001b[39;00m\u001b[38;5;21;01m.\u001b[39;00m\u001b[38;5;21;01mmodels\u001b[39;00m \u001b[38;5;28;01mimport\u001b[39;00m BayesianNetwork\n\u001b[0;32m      3\u001b[0m \u001b[38;5;28;01mfrom\u001b[39;00m \u001b[38;5;21;01mpgmpy\u001b[39;00m\u001b[38;5;21;01m.\u001b[39;00m\u001b[38;5;21;01mfactors\u001b[39;00m\u001b[38;5;21;01m.\u001b[39;00m\u001b[38;5;21;01mdiscrete\u001b[39;00m \u001b[38;5;28;01mimport\u001b[39;00m TabularCPD\n\u001b[0;32m      4\u001b[0m \u001b[38;5;28;01mfrom\u001b[39;00m \u001b[38;5;21;01mpgmpy\u001b[39;00m\u001b[38;5;21;01m.\u001b[39;00m\u001b[38;5;21;01minference\u001b[39;00m \u001b[38;5;28;01mimport\u001b[39;00m VariableElimination\n",
      "\u001b[1;31mModuleNotFoundError\u001b[0m: No module named 'pgmpy'"
     ]
    }
   ],
   "source": [
    "#!pip install pgmpy\n",
    "from pgmpy.models import BayesianNetwork\n",
    "from pgmpy.factors.discrete import TabularCPD\n",
    "from pgmpy.inference import VariableElimination\n",
    "\n",
    "# 创建一个贝叶斯网络模型\n",
    "model = BayesianNetwork([('A', 'C'), ('B', 'C'), ('C', 'D')])\n",
    "\n",
    "# 定义每个节点的条件概率分布 (CPD)\n",
    "cpd_a = TabularCPD(variable='A', variable_card=2, values=[[0.7], [0.3]])\n",
    "cpd_b = TabularCPD(variable='B', variable_card=2, values=[[0.6], [0.4]])\n",
    "cpd_c = TabularCPD(variable='C', variable_card=2, values=[[0.9, 0.6, 0.7, 0.1], [0.1, 0.4, 0.3, 0.9]],\n",
    "                  evidence=['A', 'B'], evidence_card=[2, 2])\n",
    "cpd_d = TabularCPD(variable='D', variable_card=2, values=[[0.9, 0.2], [0.1, 0.8]], evidence=['C'], evidence_card=[2])\n",
    "\n",
    "# 将CPD添加到模型\n",
    "model.add_cpds(cpd_a, cpd_b, cpd_c, cpd_d)\n",
    "\n",
    "# 验证模型结构和CPD\n",
    "assert model.check_model()\n",
    "\n",
    "# 创建推理对象\n",
    "inference = VariableElimination(model)\n",
    "\n",
    "# 查询条件概率\n",
    "result = inference.query(variables=['D'], evidence={'A': 1, 'B': 0})\n",
    "print(result)\n",
    "\n",
    "# 查询边缘概率\n",
    "result = inference.query(variables=['C'])\n",
    "print(result)"
   ]
  },
  {
   "cell_type": "code",
   "execution_count": null,
   "id": "04b7b10b",
   "metadata": {},
   "outputs": [],
   "source": []
  }
 ],
 "metadata": {
  "kernelspec": {
   "display_name": "Python 3 (ipykernel)",
   "language": "python",
   "name": "python3"
  },
  "language_info": {
   "codemirror_mode": {
    "name": "ipython",
    "version": 3
   },
   "file_extension": ".py",
   "mimetype": "text/x-python",
   "name": "python",
   "nbconvert_exporter": "python",
   "pygments_lexer": "ipython3",
   "version": "3.11.4"
  }
 },
 "nbformat": 4,
 "nbformat_minor": 5
}
